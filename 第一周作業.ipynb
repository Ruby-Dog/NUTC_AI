{
  "nbformat": 4,
  "nbformat_minor": 0,
  "metadata": {
    "colab": {
      "name": "第一周作業",
      "provenance": [],
      "authorship_tag": "ABX9TyONo9oEc5D7DRpaTcgjknp5",
      "include_colab_link": true
    },
    "kernelspec": {
      "name": "python3",
      "display_name": "Python 3"
    },
    "language_info": {
      "name": "python"
    }
  },
  "cells": [
    {
      "cell_type": "markdown",
      "metadata": {
        "id": "view-in-github",
        "colab_type": "text"
      },
      "source": [
        "<a href=\"https://colab.research.google.com/github/Ruby-Dog/NUTC_AI/blob/main/%E7%AC%AC%E4%B8%80%E5%91%A8%E4%BD%9C%E6%A5%AD.ipynb\" target=\"_parent\"><img src=\"https://colab.research.google.com/assets/colab-badge.svg\" alt=\"Open In Colab\"/></a>"
      ]
    },
    {
      "cell_type": "markdown",
      "metadata": {
        "id": "WyjjrxcFRQ0-"
      },
      "source": [
        "試以 Python 寫一函數 oneHotEncode(str)，  \n",
        "它可以接受一個具有 m 個單字的英文句子 str（為一個字串），  \n",
        "其中有 n 個單字不重複（n ≤ m ），  \n",
        "輸出為英文句子的 One-Hot 編碼（為一個m n × 的 Numpy 陣列）。  \n",
        "    \n",
        "      \n",
        "\n",
        "例如，輸入oneHotEncode('to be or not to be')  \n",
        "則 oneHotEncode() 回應：  \n",
        "  \n",
        "array( [ [1, 0, 0, 0, 1, 0],  \n",
        " [0, 1, 0, 0, 0, 1],  \n",
        " [0, 0, 1, 0, 0, 0],  \n",
        " [0, 0, 0, 1, 0, 0] ] )  "
      ]
    },
    {
      "cell_type": "code",
      "metadata": {
        "id": "RgEeYtLtB5TW"
      },
      "source": [
        "import numpy as np"
      ],
      "execution_count": null,
      "outputs": []
    },
    {
      "cell_type": "code",
      "metadata": {
        "id": "6f1L8gUK5DKm"
      },
      "source": [
        "def oneHotEncode(str):\n",
        "\n",
        "  list=str.split()\n",
        "\n",
        "  m=len(list)   # 具有m個單字的英文句子str\n",
        "\n",
        "  # ---使用保留順序對列表進行重複資料刪除---\n",
        "  list_unique = []\n",
        "  for s in list:         # 1st loop\n",
        "    if s not in list_unique:   # 2nd loop\n",
        "      list_unique.append(s)\n",
        "  \n",
        "  n=len(list_unique)  #str其中有n個單字不重複  (n<=m)\n",
        "  #-------------------------------------\n",
        "\n",
        "  array=np.zeros([n,m]) # 創建二維陣列\n",
        "\n",
        "\n",
        "  for i in range(n):\n",
        "    for j in range(m):\n",
        "      if list[j]==list_unique[i]:\n",
        "        array[i][j]=1\n",
        "\n",
        "\n",
        "  return array \n",
        "   "
      ],
      "execution_count": null,
      "outputs": []
    },
    {
      "cell_type": "code",
      "metadata": {
        "colab": {
          "base_uri": "https://localhost:8080/"
        },
        "id": "TNm0Bhb07Art",
        "outputId": "79d64428-093b-42fe-c191-fff64155454a"
      },
      "source": [
        "oneHotEncode('to be or not to be')\n"
      ],
      "execution_count": null,
      "outputs": [
        {
          "output_type": "execute_result",
          "data": {
            "text/plain": [
              "array([[1., 0., 0., 0., 1., 0.],\n",
              "       [0., 1., 0., 0., 0., 1.],\n",
              "       [0., 0., 1., 0., 0., 0.],\n",
              "       [0., 0., 0., 1., 0., 0.]])"
            ]
          },
          "metadata": {},
          "execution_count": 84
        }
      ]
    }
  ]
}